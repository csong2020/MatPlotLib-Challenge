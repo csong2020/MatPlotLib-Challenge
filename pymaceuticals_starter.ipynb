{
 "cells": [
  {
   "cell_type": "markdown",
   "metadata": {},
   "source": [
    "## Observations and Insights "
   ]
  },
  {
   "cell_type": "markdown",
   "metadata": {},
   "source": []
  },
  {
   "cell_type": "code",
   "execution_count": null,
   "metadata": {},
   "outputs": [],
   "source": [
    "# Dependencies and Setup\n",
    "\n",
    "import matplotlib.pyplot as plt\n",
    "import pandas as pd\n",
    "import scipy.stats as st\n",
    "import numpy as np\n",
    "\n",
    "# Study data files\n",
    "mouse_metadata_path = \"data/Mouse_metadata.csv\"\n",
    "study_results_path = \"data/Study_results.csv\"\n",
    "\n",
    "# Read the mouse data and the study results\n",
    "mouse_metadata = pd.read_csv(mouse_metadata_path)\n",
    "study_results = pd.read_csv(study_results_path)\n",
    "\n",
    "# Combine the data into a single dataset\n",
    "#used the outer merge to combine both datasets to include all of the entries.\n",
    "merged_df = pd.merge(mouse_metadata, study_results, how = \"outer\", on=\"Mouse ID\")\n",
    "# Display the data table for preview\n",
    "merged_df"
   ]
  },
  {
   "cell_type": "code",
   "execution_count": null,
   "metadata": {},
   "outputs": [],
   "source": [
    "# Checking the number of mice.\n",
    "unique_mouse_count = len(merged_df[\"Mouse ID\"].unique())\n",
    "unique_mouse_count\n",
    "print(f'The number of mice in the DataFrame is {unique_mouse_count}')"
   ]
  },
  {
   "cell_type": "code",
   "execution_count": null,
   "metadata": {},
   "outputs": [],
   "source": [
    "# Getting the duplicate mice by ID number that shows up for Mouse ID and Timepoint. \n",
    "#https://pandas.pydata.org/docs/reference/api/pandas.DataFrame.duplicated.html\n",
    "duplicate_mice_by_ID = merged_df.loc[merged_df.duplicated(subset=['Mouse ID', 'Timepoint',]),'Mouse ID'].unique()\n",
    "duplicate_mice_by_ID\n",
    "#mouse ID is g989\n",
    "print(f'The duplicate mouse ID is {duplicate_mice_by_ID}')"
   ]
  },
  {
   "cell_type": "code",
   "execution_count": null,
   "metadata": {},
   "outputs": [],
   "source": [
    "# Optional: Get all the data for the duplicate mouse ID. \n",
    "#looking for mouse ID g989\n",
    "mouse_ID_g989 = merged_df.loc[(merged_df[\"Mouse ID\"] == \"g989\")]\n",
    "mouse_ID_g989"
   ]
  },
  {
   "cell_type": "code",
   "execution_count": null,
   "metadata": {},
   "outputs": [],
   "source": [
    "# Create a clean DataFrame by dropping the duplicate mouse by its ID.\n",
    "# uses loc to filter by all entries in the Mouse ID column that does not have the mouse ID g989\n",
    "merged_df_clean_g989 = merged_df.loc[(merged_df[\"Mouse ID\"] != \"g989\")]\n",
    "merged_df_clean_g989"
   ]
  },
  {
   "cell_type": "code",
   "execution_count": null,
   "metadata": {},
   "outputs": [],
   "source": [
    "# Checking the number of mice in the clean DataFrame.\n",
    "merged_df_clean_g989[\"Mouse ID\"].value_counts()\n",
    "print(f'There are {len(merged_df_clean_g989[\"Mouse ID\"].value_counts())} mice in the clean DataFrame')"
   ]
  },
  {
   "cell_type": "markdown",
   "metadata": {},
   "source": [
    "## Summary Statistics"
   ]
  },
  {
   "cell_type": "code",
   "execution_count": null,
   "metadata": {},
   "outputs": [],
   "source": [
    "# Generate a summary statistics table of mean, median, variance, standard deviation, and SEM of the tumor volume for each regimen\n",
    "\n",
    "# Use groupby and summary statistical methods to calculate the following properties of each drug regimen: \n",
    "# mean, median, variance, standard deviation, and SEM of the tumor volume. \n",
    "# Assemble the resulting series into a single summary dataframe.\n",
    "\n",
    "#using the merged_df_clean_g989 and grouping by drug regimen to see what the stats are for each drug\n",
    "group_dr_cleaned_df = merged_df_clean_g989.groupby(\"Drug Regimen\")\n",
    "#group_dr_cleaned_df.head()\n",
    "tumor_mean = group_dr_cleaned_df[\"Tumor Volume (mm3)\"].mean()\n",
    "#tumor_mean\n",
    "tumor_median = group_dr_cleaned_df[\"Tumor Volume (mm3)\"].median()\n",
    "#tumor_median\n",
    "tumor_variance = group_dr_cleaned_df[\"Tumor Volume (mm3)\"].var()\n",
    "#tumor_variance\n",
    "tumor_stddev = group_dr_cleaned_df[\"Tumor Volume (mm3)\"].std()\n",
    "#tumor_stddev\n",
    "tumor_sem = group_dr_cleaned_df[\"Tumor Volume (mm3)\"].sem(ddof=0)\n",
    "#tumor_sem\n",
    "\n",
    "#summarizing these stats into a single DataFrame\n",
    "summary_stats_cleaned_df = {\"Mean\": tumor_mean,\n",
    "                            \"Median\": tumor_median,\n",
    "                            \"Variance\": tumor_variance,\n",
    "                            \"Standard Deviation\": tumor_stddev,\n",
    "                            \"Standard Error of Mean\": tumor_sem,\n",
    "}\n",
    "\n",
    "summary_stats_cleaned_df = pd.DataFrame(summary_stats_cleaned_df)\n",
    "summary_stats_cleaned_df\n"
   ]
  },
  {
   "cell_type": "code",
   "execution_count": null,
   "metadata": {},
   "outputs": [],
   "source": [
    "# Generate a summary statistics table of mean, median, variance, standard deviation, and SEM of the tumor volume for each regimen\n",
    "# Using the aggregation method, produce the same summary statistics in a single line\n",
    "\n",
    "#https://www.geeksforgeeks.org/how-to-combine-groupby-and-multiple-aggregate-functions-in-pandas/\n",
    "#modified by putting brackets around Tumor Volume (mm3) because spaces are not allowed in the syntax\n",
    "agg_tumorvolume_df = merged_df_clean_g989.groupby(merged_df_clean_g989[\"Drug Regimen\"])[\"Tumor Volume (mm3)\"].agg([\"mean\",\n",
    "                                                                                                                   \"median\",\n",
    "                                                                                                                   \"var\",\n",
    "                                                                                                                   \"std\",\n",
    "                                                                                                                   \"sem\"])\n",
    "agg_tumorvolume_df\n"
   ]
  },
  {
   "cell_type": "markdown",
   "metadata": {},
   "source": [
    "## Bar and Pie Charts"
   ]
  },
  {
   "cell_type": "code",
   "execution_count": null,
   "metadata": {},
   "outputs": [],
   "source": [
    "# Generate a bar plot showing the total number of timepoints for all mice tested for each drug regimen using Pandas.\n",
    "\n",
    "#number of mice per drug regimen\n",
    "drug_regimen_mice_count = merged_df_clean_g989.groupby([\"Drug Regimen\"]).count()[\"Mouse ID\"]\n",
    "\n",
    "drug_regimen_mice_count.plot(kind = \"bar\", title = \"Number of Mice Per Drug Regimen (Pandas)\", color='r', alpha=.5)\n",
    "#plt.title(\"Average Rain per State\")\n",
    "plt.xlabel(\"Drug Regimen\")\n",
    "plt.ylabel(\"Mice\")\n",
    "plt.tight_layout()\n",
    "plt.show()\n"
   ]
  },
  {
   "cell_type": "code",
   "execution_count": null,
   "metadata": {},
   "outputs": [],
   "source": [
    "# Generate a bar plot showing the total number of timepoints for all mice tested for each drug regimen using pyplot.\n",
    "\n",
    "#from MatPlotLib Day 1 Activity 08:\n",
    "drug_regimen = [\"Capomulin\", \"Ceftamin\", \"Infubinol\", \"Ketapril\", \"Naftisol\", \"Placebo\", \"Propriva\", \"Ramicane\", \"Stelasyn\", \"Zoniferol\"]\n",
    "#10 drugs, therefore we need 10 points along the x axis\n",
    "#alternatively np.arange(0, 10, 1)\n",
    "x_axis = np.arange(len(drug_regimen_mice_count))\n",
    "y_axis = drug_regimen_mice_count\n",
    "plt.bar(x_axis, y_axis, color = \"g\", align = \"center\")\n",
    "tick_locations = []\n",
    "for x in x_axis:\n",
    "    tick_locations.append(x)\n",
    "plt.xticks(tick_locations, drug_regimen, rotation = \"vertical\")\n",
    "plt.title(\"Number of Mice Per Drug Regimen (PyPlot)\")\n",
    "plt.xlabel(\"Drug Regimen\")\n",
    "plt.ylabel(\"Mice\")\n",
    "plt.tight_layout\n",
    "plt.show()\n"
   ]
  },
  {
   "cell_type": "code",
   "execution_count": null,
   "metadata": {},
   "outputs": [],
   "source": [
    "# Generate a pie plot showing the distribution of female versus male mice using Pandas\n",
    "\n",
    "#count how many of each sex there are in the entire cleaned DataFrame\n",
    "sex_count = merged_df_clean_g989[\"Sex\"].value_counts()\n",
    "\n",
    "#time to make it fancy\n",
    "colors = [\"red\", \"blue\"]\n",
    "explode = (0.1, 0)\n",
    "pie_sex_count = sex_count.plot(kind = \"pie\", colors = colors, title = \"Female VS Male Mice (Pandas)\", autopct = \"%1.1f%%\", shadow = True)\n",
    "plt.show()"
   ]
  },
  {
   "cell_type": "code",
   "execution_count": null,
   "metadata": {},
   "outputs": [],
   "source": [
    "# Generate a pie plot showing the distribution of female versus male mice using pyplot\n",
    "\n",
    "plt.pie(sex_count, labels = merged_df_clean_g989[\"Sex\"].unique(), colors = [\"green\", \"orange\"], autopct = \"%1.1f%%\", shadow = True)\n",
    "plt.title(\"Female VS Male Mice (PyPlot)\")\n",
    "plt.tight_layout()\n",
    "plt.show()\n"
   ]
  },
  {
   "cell_type": "markdown",
   "metadata": {},
   "source": [
    "## Quartiles, Outliers and Boxplots"
   ]
  },
  {
   "cell_type": "code",
   "execution_count": 37,
   "metadata": {},
   "outputs": [
    {
     "data": {
      "text/html": [
       "<div>\n",
       "<style scoped>\n",
       "    .dataframe tbody tr th:only-of-type {\n",
       "        vertical-align: middle;\n",
       "    }\n",
       "\n",
       "    .dataframe tbody tr th {\n",
       "        vertical-align: top;\n",
       "    }\n",
       "\n",
       "    .dataframe thead th {\n",
       "        text-align: right;\n",
       "    }\n",
       "</style>\n",
       "<table border=\"1\" class=\"dataframe\">\n",
       "  <thead>\n",
       "    <tr style=\"text-align: right;\">\n",
       "      <th></th>\n",
       "      <th>Mouse ID</th>\n",
       "      <th>Drug Regimen</th>\n",
       "      <th>Sex</th>\n",
       "      <th>Age_months</th>\n",
       "      <th>Weight (g)</th>\n",
       "      <th>Timepoint</th>\n",
       "      <th>Tumor Volume (mm3)</th>\n",
       "      <th>Metastatic Sites</th>\n",
       "      <th>Greatest Timepoint</th>\n",
       "    </tr>\n",
       "  </thead>\n",
       "  <tbody>\n",
       "    <tr>\n",
       "      <th>0</th>\n",
       "      <td>k403</td>\n",
       "      <td>Ramicane</td>\n",
       "      <td>Male</td>\n",
       "      <td>21</td>\n",
       "      <td>16</td>\n",
       "      <td>0</td>\n",
       "      <td>45.000000</td>\n",
       "      <td>0</td>\n",
       "      <td>45</td>\n",
       "    </tr>\n",
       "    <tr>\n",
       "      <th>1</th>\n",
       "      <td>k403</td>\n",
       "      <td>Ramicane</td>\n",
       "      <td>Male</td>\n",
       "      <td>21</td>\n",
       "      <td>16</td>\n",
       "      <td>5</td>\n",
       "      <td>38.825898</td>\n",
       "      <td>0</td>\n",
       "      <td>45</td>\n",
       "    </tr>\n",
       "    <tr>\n",
       "      <th>2</th>\n",
       "      <td>k403</td>\n",
       "      <td>Ramicane</td>\n",
       "      <td>Male</td>\n",
       "      <td>21</td>\n",
       "      <td>16</td>\n",
       "      <td>10</td>\n",
       "      <td>35.014271</td>\n",
       "      <td>1</td>\n",
       "      <td>45</td>\n",
       "    </tr>\n",
       "    <tr>\n",
       "      <th>3</th>\n",
       "      <td>k403</td>\n",
       "      <td>Ramicane</td>\n",
       "      <td>Male</td>\n",
       "      <td>21</td>\n",
       "      <td>16</td>\n",
       "      <td>15</td>\n",
       "      <td>34.223992</td>\n",
       "      <td>1</td>\n",
       "      <td>45</td>\n",
       "    </tr>\n",
       "    <tr>\n",
       "      <th>4</th>\n",
       "      <td>k403</td>\n",
       "      <td>Ramicane</td>\n",
       "      <td>Male</td>\n",
       "      <td>21</td>\n",
       "      <td>16</td>\n",
       "      <td>20</td>\n",
       "      <td>32.997729</td>\n",
       "      <td>1</td>\n",
       "      <td>45</td>\n",
       "    </tr>\n",
       "  </tbody>\n",
       "</table>\n",
       "</div>"
      ],
      "text/plain": [
       "  Mouse ID Drug Regimen   Sex  Age_months  Weight (g)  Timepoint  \\\n",
       "0     k403     Ramicane  Male          21          16          0   \n",
       "1     k403     Ramicane  Male          21          16          5   \n",
       "2     k403     Ramicane  Male          21          16         10   \n",
       "3     k403     Ramicane  Male          21          16         15   \n",
       "4     k403     Ramicane  Male          21          16         20   \n",
       "\n",
       "   Tumor Volume (mm3)  Metastatic Sites  Greatest Timepoint  \n",
       "0           45.000000                 0                  45  \n",
       "1           38.825898                 0                  45  \n",
       "2           35.014271                 1                  45  \n",
       "3           34.223992                 1                  45  \n",
       "4           32.997729                 1                  45  "
      ]
     },
     "execution_count": 37,
     "metadata": {},
     "output_type": "execute_result"
    }
   ],
   "source": [
    "# Calculate the final tumor volume of each mouse across four of the treatment regimens:  \n",
    "# Capomulin, Ramicane, Infubinol, and Ceftamin\n",
    "\n",
    "# Start by getting the last (greatest) timepoint for each mouse\n",
    "#assuming we use the original merged DataFrame since there is no mention of the cleaned DataFrame\n",
    "# timepoint_1 = merged_df.groupby(\"Mouse ID\")[\"Timepoint\"].max()\n",
    "# timepoint_2 = timepoint_1.sort_values()\n",
    "# timepoint_3 = timepoint_2.reset_index()\n",
    "#groups by Mouse ID, finds maximum value in the Timepoint column, then sorts those values and finally resets the index\n",
    "greatest_timepoint_df = pd.DataFrame(merged_df.groupby(\"Mouse ID\")[\"Timepoint\"].max().sort_values().reset_index())\n",
    "#greatest_timepoint_df.head()\n",
    "\n",
    "# Merge this group df with the original dataframe to get the tumor volume at the last timepoint\n",
    "greatest_timepoint_merged_df = pd.merge(merged_df, greatest_timepoint_df, on = \"Mouse ID\")\n",
    "#greatest_timepoint_merged_df.head()\n",
    "greatest_timepoint_merged_df = greatest_timepoint_merged_df.rename(columns = {\"Timepoint_y\": \"Greatest Timepoint\", \"Timepoint_x\": \"Timepoint\"})\n",
    "greatest_timepoint_merged_df.head()\n",
    "\n"
   ]
  },
  {
   "cell_type": "code",
   "execution_count": 38,
   "metadata": {},
   "outputs": [
    {
     "name": "stdout",
     "output_type": "stream",
     "text": [
      "Capomulin's interquartile range is: 7.781863460000004\n",
      "Capomulin's upper bound is: 51.83201549\n",
      "Capomulin's lower bound is: 20.70456164999999\n",
      "Capomulin contains 0 outliers. You should look into them...\n",
      "Ramicane's interquartile range is: 9.098536719999998\n",
      "Ramicane's upper bound is: 54.30681135\n",
      "Ramicane's lower bound is: 17.912664470000003\n",
      "Ramicane contains 0 outliers. You should look into them...\n",
      "Infubinol's interquartile range is: 11.477135160000003\n",
      "Infubinol's upper bound is: 82.74144559000001\n",
      "Infubinol's lower bound is: 36.83290494999999\n",
      "Infubinol contains 1 outliers. You should look into them...\n",
      "Ceftamin's interquartile range is: 15.577752179999997\n",
      "Ceftamin's upper bound is: 87.66645829999999\n",
      "Ceftamin's lower bound is: 25.355449580000002\n",
      "Ceftamin contains 0 outliers. You should look into them...\n"
     ]
    }
   ],
   "source": [
    "# Put treatments into a list for for loop (and later for plot labels)\n",
    "drug_limit = [\"Capomulin\", \"Ramicane\", \"Infubinol\", \"Ceftamin\"]\n",
    "\n",
    "\n",
    "# Create empty list to fill with tumor vol data (for plotting)\n",
    "drug_tumorvol_data = []\n",
    "\n",
    "# Calculate the IQR and quantitatively determine if there are any potential outliers. \n",
    "\n",
    "#loops through . Creates variable drug_name that goes through the limited treatment list\n",
    "for drug_name in drug_limit:\n",
    "    #filters using loc in the dataframe above for each drug name (one at a time)\n",
    "    loop_druglimit_df = greatest_timepoint_merged_df.loc[greatest_timepoint_merged_df[\"Drug Regimen\"] == drug_name]\n",
    "   \n",
    "    # Locate the rows which contain mice on each drug and get the tumor volumes\n",
    "    #finds the row where Timepoint and Greatest Timepoint match, which is where the final tumor volume will be.\n",
    "    greatest_volume_df = loop_druglimit_df.loc[loop_druglimit_df[\"Timepoint\"] == loop_druglimit_df[\"Greatest Timepoint\"]]\n",
    "\n",
    "    # add subset \n",
    "    volume_final = greatest_volume_df[\"Tumor Volume (mm3)\"]\n",
    "    #adds the final volume data to drug_tumorvol_data. volume_final changes each loop, but drug_tumorvol_data stores all loop entries.\n",
    "    drug_tumorvol_data.append(volume_final)\n",
    "    \n",
    "    # Determine outliers using upper and lower bounds\n",
    "    quartiles = volume_final.quantile([0.25, 0.5, 0.75])\n",
    "    upperquartile = quartiles[0.75]\n",
    "    lowerquartile = quartiles[0.25]\n",
    "    iqr = upperquartile - lowerquartile\n",
    "    upper_bound = upperquartile + (1.5 * iqr)\n",
    "    lower_bound = lowerquartile - (1.5 * iqr)\n",
    "    \n",
    "    outlier_count = (volume_final.loc[(greatest_volume_df[\"Tumor Volume (mm3)\"] >= upper_bound) | \n",
    "                                        (greatest_volume_df[\"Tumor Volume (mm3)\"] <= lower_bound)]).count()\n",
    "\n",
    "    print(f\"{drug_name}'s interquartile range is: {iqr}\")\n",
    "    print(f\"{drug_name}'s upper bound is: {upper_bound}\")\n",
    "    print(f\"{drug_name}'s lower bound is: {lower_bound}\")\n",
    "    print(f\"{drug_name} contains {outlier_count} outliers. You should look into them...\")\n",
    "    \n",
    "    #thank you Anthony for recommending a for loop. This would have been a nightmare using brute force..."
   ]
  },
  {
   "cell_type": "code",
   "execution_count": 48,
   "metadata": {},
   "outputs": [
    {
     "data": {
      "image/png": "[encoded data removed]",
      "text/plain": [
       "<Figure size 432x288 with 1 Axes>"
      ]
     },
     "metadata": {
      "needs_background": "light"
     },
     "output_type": "display_data"
    }
   ],
   "source": [
    "# Generate a box plot of the final tumor volume of each mouse across four regimens of interest\n",
    "plt.boxplot(drug_tumorvol_data)\n",
    "plt.title(\"Tumor Size After Drug Regimen\")\n",
    "plt.xlabel(\"Drug Regimen\")\n",
    "plt.ylabel(\"Tumor Volume (mm3)\")\n",
    "x_axis = np.arange(len(drug_limit))\n",
    "tick_locations = []\n",
    "for x in x_axis:\n",
    "    #can't just append(x) because that makes the IQR start at 0. Added 1 to give it some space\n",
    "    tick_locations.append(x+1)\n",
    "plt.xticks(tick_locations, drug_limit, rotation = \"horizontal\")\n",
    "plt.xticks(tick_locations, [\"Capomulin\", \"Ramicane\", \"Infubinol\", \"Ceftamin\"])\n",
    "plt.show()\n"
   ]
  },
  {
   "cell_type": "markdown",
   "metadata": {},
   "source": [
    "## Line and Scatter Plots"
   ]
  },
  {
   "cell_type": "code",
   "execution_count": null,
   "metadata": {},
   "outputs": [],
   "source": [
    "# Generate a line plot of tumor volume vs. time point for a mouse treated with Capomulin\n"
   ]
  },
  {
   "cell_type": "code",
   "execution_count": null,
   "metadata": {},
   "outputs": [],
   "source": [
    "# Generate a scatter plot of average tumor volume vs. mouse weight for the Capomulin regimen\n"
   ]
  },
  {
   "cell_type": "markdown",
   "metadata": {},
   "source": [
    "## Correlation and Regression"
   ]
  },
  {
   "cell_type": "code",
   "execution_count": null,
   "metadata": {},
   "outputs": [],
   "source": [
    "# Calculate the correlation coefficient and linear regression model \n",
    "# for mouse weight and average tumor volume for the Capomulin regimen\n"
   ]
  },
  {
   "cell_type": "code",
   "execution_count": null,
   "metadata": {},
   "outputs": [],
   "source": []
  }
 ],
 "metadata": {
  "anaconda-cloud": {},
  "kernelspec": {
   "display_name": "Python 3",
   "language": "python",
   "name": "python3"
  },
  "language_info": {
   "codemirror_mode": {
    "name": "ipython",
    "version": 3
   },
   "file_extension": ".py",
   "mimetype": "text/x-python",
   "name": "python",
   "nbconvert_exporter": "python",
   "pygments_lexer": "ipython3",
   "version": "3.7.7"
  }
 },
 "nbformat": 4,
 "nbformat_minor": 4
}
